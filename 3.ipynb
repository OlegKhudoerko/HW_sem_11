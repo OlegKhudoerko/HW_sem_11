{
 "cells": [
  {
   "cell_type": "code",
   "execution_count": 1,
   "id": "e6a10e10",
   "metadata": {},
   "outputs": [
    {
     "data": {
      "image/png": "[encoded data removed]",
      "text/latex": [
       "$\\displaystyle \\frac{x^{2} + 3}{3 x + 3}$"
      ],
      "text/plain": [
       "  2    \n",
       " x  + 3\n",
       "───────\n",
       "3⋅x + 3"
      ]
     },
     "execution_count": 1,
     "metadata": {},
     "output_type": "execute_result"
    }
   ],
   "source": [
    "from sympy import *\n",
    "from sympy.plotting import plot\n",
    "init_printing()\n",
    "\n",
    "x = Symbol(\"x\")\n",
    "f = (x ** 2 + 3) / (3 * (x + 1))\n",
    "f\n"
   ]
  },
  {
   "cell_type": "code",
   "execution_count": 58,
   "id": "bf7085d5",
   "metadata": {},
   "outputs": [
    {
     "data": {
      "text/latex": [
       "$\\displaystyle \\left\\{- \\sqrt{3} i, \\sqrt{3} i\\right\\}$"
      ],
      "text/plain": [
       "{-sqrt(3)*I, sqrt(3)*I}"
      ]
     },
     "execution_count": 58,
     "metadata": {},
     "output_type": "execute_result"
    }
   ],
   "source": [
    "# 1. Определяем корни\n",
    "#    Нули функции\n",
    "\n",
    "solveset(f, x)\n"
   ]
  },
  {
   "cell_type": "code",
   "execution_count": 41,
   "id": "a12bb0ce",
   "metadata": {},
   "outputs": [
    {
     "name": "stdout",
     "output_type": "stream",
     "text": [
      "Возрастает на интервалах:\n",
      "[-1, -3]\n",
      "[1, -0.8]\n",
      "Убывает на интервалах:\n",
      "[-3, 1]\n"
     ]
    }
   ],
   "source": [
    "# 2. Находим интервалы, на которых функция возрастает\n",
    "# 3. Находим интервалы, на которых функция убывает\n",
    "\n",
    "\n",
    "f_diff = [-oo, -oo]\n",
    "f_diff[1:1] = solve(diff(f), x)\n",
    "\n",
    "incr_list = []\n",
    "decr_list = []\n",
    "\n",
    "for i in range(1, len(f_diff)):\n",
    "    val = is_increasing(f, Interval.open(f_diff[i - 1], f_diff[i]))\n",
    "    if val:\n",
    "        incr_list.append(f\"[{f_diff[i - 1]}, {f_diff[i]}]\")\n",
    "    else:\n",
    "        decr_list.append(f\"[{f_diff[i - 1]}, {f_diff[i]}]\")\n",
    "\n",
    "print(f\"Возрастает на интервалах:\", *incr_list, sep=\"\\n\")\n",
    "print(f\"Убывает на интервалах:\", *decr_list, sep=\"\\n\")\n"
   ]
  },
  {
   "cell_type": "code",
   "execution_count": 11,
   "id": "01d7a033",
   "metadata": {},
   "outputs": [
    {
     "data": {
      "image/png": "[encoded data removed]",
      "text/plain": [
       "<Figure size 640x480 with 1 Axes>"
      ]
     },
     "metadata": {},
     "output_type": "display_data"
    }
   ],
   "source": [
    "# 4. Построить график\n",
    "\n",
    "fun1 = plot(f, (x, -4, -1.1), show=False)\n",
    "fun2 = plot(f, (x, -0.9, 4), show=False)\n",
    "fun1.append(fun2[0])\n",
    "fun1.show()\n"
   ]
  },
  {
   "cell_type": "code",
   "execution_count": 74,
   "id": "aefb20a1",
   "metadata": {},
   "outputs": [
    {
     "name": "stdout",
     "output_type": "stream",
     "text": [
      "Точка максимума: -3.0, -2.0\n",
      "Точка минимума: 1.0, 0.67\n"
     ]
    }
   ],
   "source": [
    "# 5. Вычисляем вершину\n",
    "#    Экстремумы функции\n",
    "from random import uniform\n",
    "\n",
    "f_diff = sorted(solveset(diff(f), x, Reals).evalf(2))\n",
    "f_diff.insert(0, f_diff[0] - 1)\n",
    "f_1 = diff(f)\n",
    "\n",
    "ext_list = []\n",
    "\n",
    "for i, val in enumerate(f_diff):\n",
    "    ext_list.append(f_1.subs(x, uniform(val, f_diff[i] + 1)))\n",
    "    if i != 0:\n",
    "        if ext_list[i - 1] < 0 < ext_list[i]:\n",
    "            print(f\"Точка минимума: {val}, {f.subs(x, val).evalf(2)}\")\n",
    "        elif ext_list[i - 1] > 0 > ext_list[i]:\n",
    "            print(f\"Точка максимума: {val}, {f.subs(x, val).evalf(2)}\")\n"
   ]
  },
  {
   "cell_type": "code",
   "execution_count": 72,
   "id": "461570e0",
   "metadata": {},
   "outputs": [
    {
     "name": "stdout",
     "output_type": "stream",
     "text": [
      "Возрастание в области: (−oo,−3),(1,oo)\n",
      "Убывание на:(−3,−1),(−1,1)\n"
     ]
    }
   ],
   "source": [
    "# 6. Определяем промежутки, на котором f > 0\n",
    "# 7. Определяем промежутки, на котором f < 0\n",
    "# Ничего в голову не пришло с п.6,7\n",
    "print(\"Возрастание в области: (−oo,−3),(1,oo)\")\n",
    "print(\"Убывание на:(−3,−1),(−1,1)\")\n"
   ]
  },
  {
   "cell_type": "code",
   "execution_count": null,
   "id": "c7a1d4f8",
   "metadata": {
    "scrolled": true
   },
   "outputs": [],
   "source": []
  }
 ],
 "metadata": {
  "kernelspec": {
   "display_name": "Python 3 (ipykernel)",
   "language": "python",
   "name": "python3"
  },
  "language_info": {
   "codemirror_mode": {
    "name": "ipython",
    "version": 3
   },
   "file_extension": ".py",
   "mimetype": "text/x-python",
   "name": "python",
   "nbconvert_exporter": "python",
   "pygments_lexer": "ipython3",
   "version": "3.9.13"
  }
 },
 "nbformat": 4,
 "nbformat_minor": 5
}
