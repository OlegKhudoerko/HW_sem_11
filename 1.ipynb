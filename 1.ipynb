{
 "cells": [
  {
   "cell_type": "code",
   "execution_count": 2,
   "id": "303b713b",
   "metadata": {},
   "outputs": [
    {
     "data": {
      "text/latex": [
       "$\\displaystyle - 18 x^{3} + 5 x^{2} + 10 x - 30$"
      ],
      "text/plain": [
       "-18*x**3 + 5*x**2 + 10*x - 30"
      ]
     },
     "execution_count": 2,
     "metadata": {},
     "output_type": "execute_result"
    }
   ],
   "source": [
    "from sympy import *\n",
    "from sympy.plotting import plot\n",
    "\n",
    "x = Symbol(\"x\")\n",
    "f = -18 * x ** 3 + 5 * x ** 2 + 10 * x - 30\n",
    "f"
   ]
  },
  {
   "cell_type": "code",
   "execution_count": 41,
   "id": "f4d0b5a5",
   "metadata": {},
   "outputs": [
    {
     "data": {
      "text/latex": [
       "$\\displaystyle \\left\\{- \\frac{\\sqrt[3]{\\frac{5 \\sqrt{218931}}{108} + \\frac{127045}{5832}}}{3} - \\frac{565}{972 \\sqrt[3]{\\frac{5 \\sqrt{218931}}{108} + \\frac{127045}{5832}}} + \\frac{5}{54}, \\frac{565}{1944 \\sqrt[3]{\\frac{5 \\sqrt{218931}}{108} + \\frac{127045}{5832}}} + \\frac{5}{54} + \\frac{\\sqrt[3]{\\frac{5 \\sqrt{218931}}{108} + \\frac{127045}{5832}}}{6} + i \\left(- \\frac{565 \\sqrt{3}}{1944 \\sqrt[3]{\\frac{5 \\sqrt{218931}}{108} + \\frac{127045}{5832}}} + \\frac{\\sqrt{3} \\sqrt[3]{\\frac{5 \\sqrt{218931}}{108} + \\frac{127045}{5832}}}{6}\\right), \\frac{565}{1944 \\sqrt[3]{\\frac{5 \\sqrt{218931}}{108} + \\frac{127045}{5832}}} + \\frac{5}{54} + \\frac{\\sqrt[3]{\\frac{5 \\sqrt{218931}}{108} + \\frac{127045}{5832}}}{6} + i \\left(- \\frac{\\sqrt{3} \\sqrt[3]{\\frac{5 \\sqrt{218931}}{108} + \\frac{127045}{5832}}}{6} + \\frac{565 \\sqrt{3}}{1944 \\sqrt[3]{\\frac{5 \\sqrt{218931}}{108} + \\frac{127045}{5832}}}\\right)\\right\\}$"
      ],
      "text/plain": [
       "{-(5*sqrt(218931)/108 + 127045/5832)**(1/3)/3 - 565/(972*(5*sqrt(218931)/108 + 127045/5832)**(1/3)) + 5/54, 565/(1944*(5*sqrt(218931)/108 + 127045/5832)**(1/3)) + 5/54 + (5*sqrt(218931)/108 + 127045/5832)**(1/3)/6 + I*(-565*sqrt(3)/(1944*(5*sqrt(218931)/108 + 127045/5832)**(1/3)) + sqrt(3)*(5*sqrt(218931)/108 + 127045/5832)**(1/3)/6), 565/(1944*(5*sqrt(218931)/108 + 127045/5832)**(1/3)) + 5/54 + (5*sqrt(218931)/108 + 127045/5832)**(1/3)/6 + I*(-sqrt(3)*(5*sqrt(218931)/108 + 127045/5832)**(1/3)/6 + 565*sqrt(3)/(1944*(5*sqrt(218931)/108 + 127045/5832)**(1/3)))}"
      ]
     },
     "execution_count": 41,
     "metadata": {},
     "output_type": "execute_result"
    }
   ],
   "source": [
    "# 1. Определяем корни\n",
    "#    Нули функции\n",
    "\n",
    "solveset(f, x)"
   ]
  },
  {
   "cell_type": "code",
   "execution_count": 26,
   "id": "bdbd747e",
   "metadata": {},
   "outputs": [
    {
     "name": "stdout",
     "output_type": "stream",
     "text": [
      "Возрастает на интервалах:\n",
      "[5/54 - sqrt(565)/54, 5/54 + sqrt(565)/54]\n",
      "Убывает на интервалах:\n",
      "[-oo, 5/54 - sqrt(565)/54]\n",
      "[5/54 + sqrt(565)/54, oo]\n"
     ]
    }
   ],
   "source": [
    "# 2. Находим интервалы, на которых функция возрастает\n",
    "# 3. Находим интервалы, на которых функция убывает\n",
    "\n",
    "f_diff = [-oo, oo] \n",
    "f_diff[1:1] = solve(diff(f), x)\n",
    "\n",
    "incr_list = []\n",
    "decr_list = []\n",
    "\n",
    "for i in range(1, len(f_diff)):\n",
    "    val = is_increasing(f, Interval.open(f_diff[i - 1], f_diff[i]))\n",
    "    if val:\n",
    "        incr_list.append(f\"[{f_diff[i - 1]}, {f_diff[i]}]\")\n",
    "    else:\n",
    "        decr_list.append(f\"[{f_diff[i - 1]}, {f_diff[i]}]\")\n",
    "\n",
    "print(f\"Возрастает на интервалах:\", *incr_list, sep=\"\\n\")\n",
    "print(f\"Убывает на интервалах:\", *decr_list, sep=\"\\n\")"
   ]
  },
  {
   "cell_type": "code",
   "execution_count": 27,
   "id": "5ba20e66",
   "metadata": {},
   "outputs": [
    {
     "data": {
      "image/png": "[encoded data removed]",
      "text/plain": [
       "<Figure size 640x480 with 1 Axes>"
      ]
     },
     "metadata": {},
     "output_type": "display_data"
    },
    {
     "data": {
      "text/plain": [
       "<sympy.plotting.plot.Plot at 0x1e9cac0b7f0>"
      ]
     },
     "execution_count": 27,
     "metadata": {},
     "output_type": "execute_result"
    }
   ],
   "source": [
    "# 4. Построить график\n",
    "\n",
    "plot(f,(x,-1.7,2), legend=True)"
   ]
  },
  {
   "cell_type": "code",
   "execution_count": 21,
   "id": "bf5f23cd",
   "metadata": {},
   "outputs": [
    {
     "name": "stdout",
     "output_type": "stream",
     "text": [
      "Точка минимума: -0.35, -32\n",
      "Точка максимума: 0.53, -26\n"
     ]
    }
   ],
   "source": [
    "# 5. Вычисляем вершину\n",
    "#    Экстремумы функции\n",
    "from random import uniform\n",
    "\n",
    "f_diff = sorted(solveset(diff(f), x, Reals).evalf(2))\n",
    "f_diff.insert(0, f_diff[0] - 1)\n",
    "f_1 = diff(f)\n",
    "\n",
    "ext_list = []\n",
    "\n",
    "for i, val in enumerate(f_diff):\n",
    "    ext_list.append(f_1.subs(x, uniform(val, f_diff[i] + 1)))\n",
    "    if i != 0:\n",
    "        if ext_list[i - 1] < 0 < ext_list[i]:\n",
    "            print(f\"Точка минимума: {val}, {f.subs(x, val).evalf(2)}\")\n",
    "        elif ext_list[i - 1] > 0 > ext_list[i]:\n",
    "            print(f\"Точка максимума: {val}, {f.subs(x, val).evalf(2)}\")"
   ]
  },
  {
   "cell_type": "code",
   "execution_count": 38,
   "id": "600cb889",
   "metadata": {},
   "outputs": [
    {
     "name": "stdout",
     "output_type": "stream",
     "text": [
      "f > 0:\n",
      "f < 0:\n",
      "[-oo, 5/54 - 565/(972*(-1/2 - sqrt(3)*I/2)*(5*sqrt(218931)/108 + 127045/5832)**(1/3)) - (-1/2 - sqrt(3)*I/2)*(5*sqrt(218931)/108 + 127045/5832)**(1/3)/3]\n",
      "[5/54 - 565/(972*(-1/2 - sqrt(3)*I/2)*(5*sqrt(218931)/108 + 127045/5832)**(1/3)) - (-1/2 - sqrt(3)*I/2)*(5*sqrt(218931)/108 + 127045/5832)**(1/3)/3, 5/54 - (-1/2 + sqrt(3)*I/2)*(5*sqrt(218931)/108 + 127045/5832)**(1/3)/3 - 565/(972*(-1/2 + sqrt(3)*I/2)*(5*sqrt(218931)/108 + 127045/5832)**(1/3))]\n",
      "[5/54 - (-1/2 + sqrt(3)*I/2)*(5*sqrt(218931)/108 + 127045/5832)**(1/3)/3 - 565/(972*(-1/2 + sqrt(3)*I/2)*(5*sqrt(218931)/108 + 127045/5832)**(1/3)), -(5*sqrt(218931)/108 + 127045/5832)**(1/3)/3 - 565/(972*(5*sqrt(218931)/108 + 127045/5832)**(1/3)) + 5/54]\n",
      "[-(5*sqrt(218931)/108 + 127045/5832)**(1/3)/3 - 565/(972*(5*sqrt(218931)/108 + 127045/5832)**(1/3)) + 5/54, oo]\n"
     ]
    }
   ],
   "source": [
    "# 6. Определяем промежутки, на котором f > 0\n",
    "# 7. Определяем промежутки, на котором f < 0\n",
    "\n",
    "roots_fun = [-oo, oo]\n",
    "roots_fun[1:1] = solve(f, x)\n",
    "\n",
    "incr_list = []\n",
    "decr_list = []\n",
    "\n",
    "for i in range (1,len(roots_fun)):\n",
    "    num_1, num_2 = roots_fun[i - 1], roots_fun[i]\n",
    "    val = is_increasing(f, Interval.open(num_1, num_2))\n",
    "    if val:\n",
    "        incr_list.append(f\"[{num_1}, {num_2}]\")\n",
    "    else:\n",
    "        decr_list.append(f\"[{num_1}, {num_2}]\")\n",
    "\n",
    "print(\"f > 0:\", *incr_list, sep=\"\\n\")\n",
    "print(\"f < 0:\", *decr_list, sep=\"\\n\")"
   ]
  },
  {
   "cell_type": "code",
   "execution_count": null,
   "id": "f5e81bd4",
   "metadata": {},
   "outputs": [],
   "source": []
  },
  {
   "cell_type": "code",
   "execution_count": null,
   "id": "e50a95a5",
   "metadata": {},
   "outputs": [],
   "source": []
  }
 ],
 "metadata": {
  "kernelspec": {
   "display_name": "Python 3 (ipykernel)",
   "language": "python",
   "name": "python3"
  },
  "language_info": {
   "codemirror_mode": {
    "name": "ipython",
    "version": 3
   },
   "file_extension": ".py",
   "mimetype": "text/x-python",
   "name": "python",
   "nbconvert_exporter": "python",
   "pygments_lexer": "ipython3",
   "version": "3.9.13"
  }
 },
 "nbformat": 4,
 "nbformat_minor": 5
}
